{
 "cells": [
  {
   "cell_type": "markdown",
   "metadata": {},
   "source": [
    "# А/В - тестирование"
   ]
  },
  {
   "cell_type": "markdown",
   "metadata": {},
   "source": [
    "Условие\n",
    "\n",
    "Одной из основных задач аналитика в нашей команде является корректное проведение экспериментов. Для этого мы применяем метод A/B–тестирования. В ходе тестирования одной гипотезы целевой группе была предложена новая механика оплаты услуг на сайте, у контрольной группы оставалась базовая механика. В качестве задания Вам необходимо проанализировать итоги эксперимента и сделать вывод, стоит ли запускать новую механику оплаты на всех пользователей."
   ]
  },
  {
   "cell_type": "markdown",
   "metadata": {},
   "source": [
    "В качестве входных данных Вы имеете 4 csv-файла:\n",
    "\n",
    "groups.csv - файл с информацией о принадлежности пользователя к контрольной или экспериментальной группе (А – контроль, B – целевая группа) \n",
    "\n",
    "groups_add.csv - дополнительный файл с пользователями, который вам прислали спустя 2 дня после передачи данных\n",
    "\n",
    "active_studs.csv - файл с информацией о пользователях, которые зашли на платформу в дни проведения эксперимента. \n",
    "\n",
    "checks.csv - файл с информацией об оплатах пользователей в дни проведения эксперимента. "
   ]
  },
  {
   "cell_type": "code",
   "execution_count": 7,
   "metadata": {},
   "outputs": [],
   "source": [
    "import requests\n",
    "from urllib.parse import urlencode\n",
    "\n",
    "\n",
    "import pandas as pd\n",
    "import numpy as np\n",
    "\n",
    "import matplotlib.pyplot as plt\n",
    "import seaborn as sns\n",
    "%matplotlib inline\n",
    "\n",
    "import scipy.stats as ss"
   ]
  },
  {
   "cell_type": "markdown",
   "metadata": {},
   "source": [
    "Прочитаем все файлы"
   ]
  },
  {
   "cell_type": "code",
   "execution_count": 8,
   "metadata": {},
   "outputs": [],
   "source": [
    "# Загружаем файлы с яндекса\n",
    "links = ['https://disk.yandex.ru/d/58Us0DWOzuWAjg',  # groups.csv\n",
    "         'https://disk.yandex.ru/d/3aARY-P9pfaksg',  # groups_add.csv\n",
    "         'https://disk.yandex.ru/d/prbgU-rZpiXVYg',  # active_studs.csv\n",
    "         'https://disk.yandex.ru/d/84hTmELphW2sqQ']  # checks.csv\n",
    "base_url = 'https://cloud-api.yandex.net/v1/disk/public/resources/download?'\n",
    "\n",
    "\n",
    "download_urls = []\n",
    "\n",
    "\n",
    "for current_link in links:\n",
    "    final_url = base_url + urlencode(dict(public_key=current_link))\n",
    "    response = requests.get(final_url)\n",
    "    download_urls.append(response.json()['href'])\n",
    "    \n",
    "groups = pd.read_csv(download_urls[0], sep=';')\n",
    "groups_add = pd.read_csv(download_urls[1])\n",
    "active_studs = pd.read_csv(download_urls[2])\n",
    "checks = pd.read_csv(download_urls[3], sep=';')"
   ]
  },
  {
   "cell_type": "code",
   "execution_count": 9,
   "metadata": {},
   "outputs": [
    {
     "data": {
      "text/html": [
       "<div>\n",
       "<style scoped>\n",
       "    .dataframe tbody tr th:only-of-type {\n",
       "        vertical-align: middle;\n",
       "    }\n",
       "\n",
       "    .dataframe tbody tr th {\n",
       "        vertical-align: top;\n",
       "    }\n",
       "\n",
       "    .dataframe thead th {\n",
       "        text-align: right;\n",
       "    }\n",
       "</style>\n",
       "<table border=\"1\" class=\"dataframe\">\n",
       "  <thead>\n",
       "    <tr style=\"text-align: right;\">\n",
       "      <th></th>\n",
       "      <th>id</th>\n",
       "      <th>grp</th>\n",
       "    </tr>\n",
       "  </thead>\n",
       "  <tbody>\n",
       "    <tr>\n",
       "      <th>0</th>\n",
       "      <td>1489</td>\n",
       "      <td>B</td>\n",
       "    </tr>\n",
       "    <tr>\n",
       "      <th>1</th>\n",
       "      <td>1627</td>\n",
       "      <td>A</td>\n",
       "    </tr>\n",
       "    <tr>\n",
       "      <th>2</th>\n",
       "      <td>1768</td>\n",
       "      <td>B</td>\n",
       "    </tr>\n",
       "    <tr>\n",
       "      <th>3</th>\n",
       "      <td>1783</td>\n",
       "      <td>B</td>\n",
       "    </tr>\n",
       "    <tr>\n",
       "      <th>4</th>\n",
       "      <td>1794</td>\n",
       "      <td>A</td>\n",
       "    </tr>\n",
       "  </tbody>\n",
       "</table>\n",
       "</div>"
      ],
      "text/plain": [
       "     id grp\n",
       "0  1489   B\n",
       "1  1627   A\n",
       "2  1768   B\n",
       "3  1783   B\n",
       "4  1794   A"
      ]
     },
     "execution_count": 9,
     "metadata": {},
     "output_type": "execute_result"
    }
   ],
   "source": [
    "groups.head()"
   ]
  },
  {
   "cell_type": "code",
   "execution_count": 10,
   "metadata": {},
   "outputs": [
    {
     "data": {
      "text/html": [
       "<div>\n",
       "<style scoped>\n",
       "    .dataframe tbody tr th:only-of-type {\n",
       "        vertical-align: middle;\n",
       "    }\n",
       "\n",
       "    .dataframe tbody tr th {\n",
       "        vertical-align: top;\n",
       "    }\n",
       "\n",
       "    .dataframe thead th {\n",
       "        text-align: right;\n",
       "    }\n",
       "</style>\n",
       "<table border=\"1\" class=\"dataframe\">\n",
       "  <thead>\n",
       "    <tr style=\"text-align: right;\">\n",
       "      <th></th>\n",
       "      <th>id</th>\n",
       "      <th>grp</th>\n",
       "    </tr>\n",
       "  </thead>\n",
       "  <tbody>\n",
       "    <tr>\n",
       "      <th>0</th>\n",
       "      <td>5694584</td>\n",
       "      <td>B</td>\n",
       "    </tr>\n",
       "    <tr>\n",
       "      <th>1</th>\n",
       "      <td>5694830</td>\n",
       "      <td>B</td>\n",
       "    </tr>\n",
       "    <tr>\n",
       "      <th>2</th>\n",
       "      <td>5695057</td>\n",
       "      <td>B</td>\n",
       "    </tr>\n",
       "    <tr>\n",
       "      <th>3</th>\n",
       "      <td>5698872</td>\n",
       "      <td>B</td>\n",
       "    </tr>\n",
       "    <tr>\n",
       "      <th>4</th>\n",
       "      <td>5699067</td>\n",
       "      <td>B</td>\n",
       "    </tr>\n",
       "  </tbody>\n",
       "</table>\n",
       "</div>"
      ],
      "text/plain": [
       "        id grp\n",
       "0  5694584   B\n",
       "1  5694830   B\n",
       "2  5695057   B\n",
       "3  5698872   B\n",
       "4  5699067   B"
      ]
     },
     "execution_count": 10,
     "metadata": {},
     "output_type": "execute_result"
    }
   ],
   "source": [
    "groups_add.head()"
   ]
  },
  {
   "cell_type": "code",
   "execution_count": 11,
   "metadata": {},
   "outputs": [
    {
     "data": {
      "text/html": [
       "<div>\n",
       "<style scoped>\n",
       "    .dataframe tbody tr th:only-of-type {\n",
       "        vertical-align: middle;\n",
       "    }\n",
       "\n",
       "    .dataframe tbody tr th {\n",
       "        vertical-align: top;\n",
       "    }\n",
       "\n",
       "    .dataframe thead th {\n",
       "        text-align: right;\n",
       "    }\n",
       "</style>\n",
       "<table border=\"1\" class=\"dataframe\">\n",
       "  <thead>\n",
       "    <tr style=\"text-align: right;\">\n",
       "      <th></th>\n",
       "      <th>student_id</th>\n",
       "    </tr>\n",
       "  </thead>\n",
       "  <tbody>\n",
       "    <tr>\n",
       "      <th>0</th>\n",
       "      <td>581585</td>\n",
       "    </tr>\n",
       "    <tr>\n",
       "      <th>1</th>\n",
       "      <td>5723133</td>\n",
       "    </tr>\n",
       "    <tr>\n",
       "      <th>2</th>\n",
       "      <td>3276743</td>\n",
       "    </tr>\n",
       "    <tr>\n",
       "      <th>3</th>\n",
       "      <td>4238589</td>\n",
       "    </tr>\n",
       "    <tr>\n",
       "      <th>4</th>\n",
       "      <td>4475369</td>\n",
       "    </tr>\n",
       "  </tbody>\n",
       "</table>\n",
       "</div>"
      ],
      "text/plain": [
       "   student_id\n",
       "0      581585\n",
       "1     5723133\n",
       "2     3276743\n",
       "3     4238589\n",
       "4     4475369"
      ]
     },
     "execution_count": 11,
     "metadata": {},
     "output_type": "execute_result"
    }
   ],
   "source": [
    "active_studs.head()"
   ]
  },
  {
   "cell_type": "code",
   "execution_count": 12,
   "metadata": {},
   "outputs": [
    {
     "data": {
      "text/html": [
       "<div>\n",
       "<style scoped>\n",
       "    .dataframe tbody tr th:only-of-type {\n",
       "        vertical-align: middle;\n",
       "    }\n",
       "\n",
       "    .dataframe tbody tr th {\n",
       "        vertical-align: top;\n",
       "    }\n",
       "\n",
       "    .dataframe thead th {\n",
       "        text-align: right;\n",
       "    }\n",
       "</style>\n",
       "<table border=\"1\" class=\"dataframe\">\n",
       "  <thead>\n",
       "    <tr style=\"text-align: right;\">\n",
       "      <th></th>\n",
       "      <th>student_id</th>\n",
       "      <th>rev</th>\n",
       "    </tr>\n",
       "  </thead>\n",
       "  <tbody>\n",
       "    <tr>\n",
       "      <th>0</th>\n",
       "      <td>1627</td>\n",
       "      <td>990.0</td>\n",
       "    </tr>\n",
       "    <tr>\n",
       "      <th>1</th>\n",
       "      <td>3185</td>\n",
       "      <td>690.0</td>\n",
       "    </tr>\n",
       "    <tr>\n",
       "      <th>2</th>\n",
       "      <td>25973</td>\n",
       "      <td>690.0</td>\n",
       "    </tr>\n",
       "    <tr>\n",
       "      <th>3</th>\n",
       "      <td>26280</td>\n",
       "      <td>690.0</td>\n",
       "    </tr>\n",
       "    <tr>\n",
       "      <th>4</th>\n",
       "      <td>100300</td>\n",
       "      <td>990.0</td>\n",
       "    </tr>\n",
       "  </tbody>\n",
       "</table>\n",
       "</div>"
      ],
      "text/plain": [
       "   student_id    rev\n",
       "0        1627  990.0\n",
       "1        3185  690.0\n",
       "2       25973  690.0\n",
       "3       26280  690.0\n",
       "4      100300  990.0"
      ]
     },
     "execution_count": 12,
     "metadata": {},
     "output_type": "execute_result"
    }
   ],
   "source": [
    "checks.head()"
   ]
  },
  {
   "cell_type": "code",
   "execution_count": 13,
   "metadata": {},
   "outputs": [
    {
     "data": {
      "text/plain": [
       "((74484, 2), (92, 2), (8341, 1), (541, 2))"
      ]
     },
     "execution_count": 13,
     "metadata": {},
     "output_type": "execute_result"
    }
   ],
   "source": [
    "groups.shape, groups_add.shape, active_studs.shape, checks.shape"
   ]
  },
  {
   "cell_type": "markdown",
   "metadata": {},
   "source": [
    "Сначала соединим необходимые нам данные и рассмотрим их на наличие опечаток и аномалий"
   ]
  },
  {
   "cell_type": "markdown",
   "metadata": {},
   "source": [
    "Не совсем понятна история с дополнительной информацией после передачи данных. Для принятия решения о включении/невключении этих данных необходима информация о дизайне самого эксперимента (Особенно, на протяжении какого временного промежутка проводился эксперимент) и почему данные пришли позже. Но если нет возможности узнать эту информацию(как и в данной ситуации), то нужно отталкиваться от того, что за продукт, какой ежедневный трафик и руководствоваться интуицией.\n",
    "\n",
    "Руководствуясь логикой, так как эти данные содержат лишь информацию о принадлежности пользователя к контрольной или экспериментальной группе, то эта информация просто пропадет при джойне, если она не нужна. Принято решение добавить данную информацию"
   ]
  },
  {
   "cell_type": "code",
   "execution_count": 14,
   "metadata": {},
   "outputs": [
    {
     "data": {
      "text/plain": [
       "(     id grp\n",
       " 0  1489   B\n",
       " 1  1627   A\n",
       " 2  1768   B\n",
       " 3  1783   B\n",
       " 4  1794   A,\n",
       " (74576, 2))"
      ]
     },
     "execution_count": 14,
     "metadata": {},
     "output_type": "execute_result"
    }
   ],
   "source": [
    "groups_upd = pd.concat([groups, groups_add])\n",
    "\n",
    "groups_upd.head(), groups_upd.shape"
   ]
  },
  {
   "cell_type": "markdown",
   "metadata": {},
   "source": [
    "Посмотрим на наличие дубликатов id"
   ]
  },
  {
   "cell_type": "code",
   "execution_count": 15,
   "metadata": {},
   "outputs": [
    {
     "data": {
      "text/html": [
       "<div>\n",
       "<style scoped>\n",
       "    .dataframe tbody tr th:only-of-type {\n",
       "        vertical-align: middle;\n",
       "    }\n",
       "\n",
       "    .dataframe tbody tr th {\n",
       "        vertical-align: top;\n",
       "    }\n",
       "\n",
       "    .dataframe thead th {\n",
       "        text-align: right;\n",
       "    }\n",
       "</style>\n",
       "<table border=\"1\" class=\"dataframe\">\n",
       "  <thead>\n",
       "    <tr style=\"text-align: right;\">\n",
       "      <th></th>\n",
       "      <th>id</th>\n",
       "      <th>grp</th>\n",
       "    </tr>\n",
       "  </thead>\n",
       "  <tbody>\n",
       "  </tbody>\n",
       "</table>\n",
       "</div>"
      ],
      "text/plain": [
       "Empty DataFrame\n",
       "Columns: [id, grp]\n",
       "Index: []"
      ]
     },
     "execution_count": 15,
     "metadata": {},
     "output_type": "execute_result"
    }
   ],
   "source": [
    "groups_upd.loc[groups_upd.duplicated()]"
   ]
  },
  {
   "cell_type": "markdown",
   "metadata": {},
   "source": [
    "Дубликатов нет - все 74576 пользователей уникальны"
   ]
  },
  {
   "cell_type": "markdown",
   "metadata": {},
   "source": [
    "Далее необходимо данный датафрейм сджоинить с active_studs, чтобы остались только пользователи, которые были активны во время проведения А/В теста и поучаствовали в нем (left-join).\n",
    "\n",
    "Важно чтобы пользователь был на сайте, потому что при тестировании новой механики, если его не было, будет непонятно был ли какой-то эффект на него или нет"
   ]
  },
  {
   "cell_type": "code",
   "execution_count": 16,
   "metadata": {},
   "outputs": [
    {
     "data": {
      "text/html": [
       "<div>\n",
       "<style scoped>\n",
       "    .dataframe tbody tr th:only-of-type {\n",
       "        vertical-align: middle;\n",
       "    }\n",
       "\n",
       "    .dataframe tbody tr th {\n",
       "        vertical-align: top;\n",
       "    }\n",
       "\n",
       "    .dataframe thead th {\n",
       "        text-align: right;\n",
       "    }\n",
       "</style>\n",
       "<table border=\"1\" class=\"dataframe\">\n",
       "  <thead>\n",
       "    <tr style=\"text-align: right;\">\n",
       "      <th></th>\n",
       "      <th>student_id</th>\n",
       "      <th>grp</th>\n",
       "    </tr>\n",
       "  </thead>\n",
       "  <tbody>\n",
       "    <tr>\n",
       "      <th>0</th>\n",
       "      <td>581585</td>\n",
       "      <td>A</td>\n",
       "    </tr>\n",
       "    <tr>\n",
       "      <th>1</th>\n",
       "      <td>5723133</td>\n",
       "      <td>A</td>\n",
       "    </tr>\n",
       "    <tr>\n",
       "      <th>2</th>\n",
       "      <td>3276743</td>\n",
       "      <td>B</td>\n",
       "    </tr>\n",
       "    <tr>\n",
       "      <th>3</th>\n",
       "      <td>4238589</td>\n",
       "      <td>A</td>\n",
       "    </tr>\n",
       "    <tr>\n",
       "      <th>4</th>\n",
       "      <td>4475369</td>\n",
       "      <td>B</td>\n",
       "    </tr>\n",
       "  </tbody>\n",
       "</table>\n",
       "</div>"
      ],
      "text/plain": [
       "   student_id grp\n",
       "0      581585   A\n",
       "1     5723133   A\n",
       "2     3276743   B\n",
       "3     4238589   A\n",
       "4     4475369   B"
      ]
     },
     "execution_count": 16,
     "metadata": {},
     "output_type": "execute_result"
    }
   ],
   "source": [
    "df = pd.merge(active_studs, groups_upd.rename(columns={'id': 'student_id'}), how='left', on='student_id')\n",
    "\n",
    "df.head()"
   ]
  },
  {
   "cell_type": "code",
   "execution_count": 17,
   "metadata": {},
   "outputs": [
    {
     "name": "stdout",
     "output_type": "stream",
     "text": [
      "Из всей выборки зашло на сайт в период тестирования 11.18 %\n"
     ]
    }
   ],
   "source": [
    "print('Из всей выборки зашло на сайт в период тестирования', np.round(\n",
    "                                        df.student_id.count()/ groups_upd.id.count()* 100, 2), '%')"
   ]
  },
  {
   "cell_type": "code",
   "execution_count": 18,
   "metadata": {},
   "outputs": [
    {
     "name": "stdout",
     "output_type": "stream",
     "text": [
      "<class 'pandas.core.frame.DataFrame'>\n",
      "Int64Index: 8341 entries, 0 to 8340\n",
      "Data columns (total 2 columns):\n",
      " #   Column      Non-Null Count  Dtype \n",
      "---  ------      --------------  ----- \n",
      " 0   student_id  8341 non-null   int64 \n",
      " 1   grp         8341 non-null   object\n",
      "dtypes: int64(1), object(1)\n",
      "memory usage: 195.5+ KB\n"
     ]
    }
   ],
   "source": [
    "df.info()"
   ]
  },
  {
   "cell_type": "markdown",
   "metadata": {},
   "source": [
    "Джоин прошел успешно и нет пустых значений. Теперь добавляем датафрейм с проведенными оплатами, где пустые значения оплат при левом джойне заполним нулями, так как это будет означать, что пользователь зашел и не произвел оплату.\n",
    "\n",
    "При этом джойн должен быть левым, чтобы отсеять пользователей, которые попали в список оплат, но при этом в эксперименте не участвуют"
   ]
  },
  {
   "cell_type": "code",
   "execution_count": 19,
   "metadata": {},
   "outputs": [
    {
     "data": {
      "text/html": [
       "<div>\n",
       "<style scoped>\n",
       "    .dataframe tbody tr th:only-of-type {\n",
       "        vertical-align: middle;\n",
       "    }\n",
       "\n",
       "    .dataframe tbody tr th {\n",
       "        vertical-align: top;\n",
       "    }\n",
       "\n",
       "    .dataframe thead th {\n",
       "        text-align: right;\n",
       "    }\n",
       "</style>\n",
       "<table border=\"1\" class=\"dataframe\">\n",
       "  <thead>\n",
       "    <tr style=\"text-align: right;\">\n",
       "      <th></th>\n",
       "      <th>student_id</th>\n",
       "      <th>grp</th>\n",
       "      <th>rev</th>\n",
       "    </tr>\n",
       "  </thead>\n",
       "  <tbody>\n",
       "    <tr>\n",
       "      <th>0</th>\n",
       "      <td>581585</td>\n",
       "      <td>A</td>\n",
       "      <td>0.0</td>\n",
       "    </tr>\n",
       "    <tr>\n",
       "      <th>1</th>\n",
       "      <td>5723133</td>\n",
       "      <td>A</td>\n",
       "      <td>0.0</td>\n",
       "    </tr>\n",
       "    <tr>\n",
       "      <th>2</th>\n",
       "      <td>3276743</td>\n",
       "      <td>B</td>\n",
       "      <td>0.0</td>\n",
       "    </tr>\n",
       "    <tr>\n",
       "      <th>3</th>\n",
       "      <td>4238589</td>\n",
       "      <td>A</td>\n",
       "      <td>0.0</td>\n",
       "    </tr>\n",
       "    <tr>\n",
       "      <th>4</th>\n",
       "      <td>4475369</td>\n",
       "      <td>B</td>\n",
       "      <td>0.0</td>\n",
       "    </tr>\n",
       "  </tbody>\n",
       "</table>\n",
       "</div>"
      ],
      "text/plain": [
       "   student_id grp  rev\n",
       "0      581585   A  0.0\n",
       "1     5723133   A  0.0\n",
       "2     3276743   B  0.0\n",
       "3     4238589   A  0.0\n",
       "4     4475369   B  0.0"
      ]
     },
     "execution_count": 19,
     "metadata": {},
     "output_type": "execute_result"
    }
   ],
   "source": [
    "df_test = pd.merge(df, checks, how='left', on='student_id').fillna(0)\n",
    "\n",
    "df_test.head()"
   ]
  },
  {
   "cell_type": "code",
   "execution_count": 20,
   "metadata": {},
   "outputs": [
    {
     "name": "stdout",
     "output_type": "stream",
     "text": [
      "<class 'pandas.core.frame.DataFrame'>\n",
      "Int64Index: 8341 entries, 0 to 8340\n",
      "Data columns (total 3 columns):\n",
      " #   Column      Non-Null Count  Dtype  \n",
      "---  ------      --------------  -----  \n",
      " 0   student_id  8341 non-null   int64  \n",
      " 1   grp         8341 non-null   object \n",
      " 2   rev         8341 non-null   float64\n",
      "dtypes: float64(1), int64(1), object(1)\n",
      "memory usage: 260.7+ KB\n"
     ]
    }
   ],
   "source": [
    "df_test.info()"
   ]
  },
  {
   "cell_type": "markdown",
   "metadata": {},
   "source": [
    "Проверяем данные итогового датафрейма на адекватность заполнения и аномалии"
   ]
  },
  {
   "cell_type": "code",
   "execution_count": 21,
   "metadata": {},
   "outputs": [
    {
     "data": {
      "text/html": [
       "<div>\n",
       "<style scoped>\n",
       "    .dataframe tbody tr th:only-of-type {\n",
       "        vertical-align: middle;\n",
       "    }\n",
       "\n",
       "    .dataframe tbody tr th {\n",
       "        vertical-align: top;\n",
       "    }\n",
       "\n",
       "    .dataframe thead th {\n",
       "        text-align: right;\n",
       "    }\n",
       "</style>\n",
       "<table border=\"1\" class=\"dataframe\">\n",
       "  <thead>\n",
       "    <tr style=\"text-align: right;\">\n",
       "      <th></th>\n",
       "      <th>student_id</th>\n",
       "      <th>grp</th>\n",
       "      <th>rev</th>\n",
       "    </tr>\n",
       "  </thead>\n",
       "  <tbody>\n",
       "    <tr>\n",
       "      <th>4412</th>\n",
       "      <td>1627</td>\n",
       "      <td>A</td>\n",
       "      <td>990.0</td>\n",
       "    </tr>\n",
       "    <tr>\n",
       "      <th>7887</th>\n",
       "      <td>2085</td>\n",
       "      <td>B</td>\n",
       "      <td>0.0</td>\n",
       "    </tr>\n",
       "    <tr>\n",
       "      <th>3144</th>\n",
       "      <td>2215</td>\n",
       "      <td>B</td>\n",
       "      <td>0.0</td>\n",
       "    </tr>\n",
       "    <tr>\n",
       "      <th>3040</th>\n",
       "      <td>3391</td>\n",
       "      <td>A</td>\n",
       "      <td>0.0</td>\n",
       "    </tr>\n",
       "    <tr>\n",
       "      <th>3851</th>\n",
       "      <td>3401</td>\n",
       "      <td>B</td>\n",
       "      <td>0.0</td>\n",
       "    </tr>\n",
       "    <tr>\n",
       "      <th>...</th>\n",
       "      <td>...</td>\n",
       "      <td>...</td>\n",
       "      <td>...</td>\n",
       "    </tr>\n",
       "    <tr>\n",
       "      <th>7505</th>\n",
       "      <td>5760471</td>\n",
       "      <td>B</td>\n",
       "      <td>0.0</td>\n",
       "    </tr>\n",
       "    <tr>\n",
       "      <th>5746</th>\n",
       "      <td>5777081</td>\n",
       "      <td>B</td>\n",
       "      <td>0.0</td>\n",
       "    </tr>\n",
       "    <tr>\n",
       "      <th>7668</th>\n",
       "      <td>5870856</td>\n",
       "      <td>A</td>\n",
       "      <td>0.0</td>\n",
       "    </tr>\n",
       "    <tr>\n",
       "      <th>3830</th>\n",
       "      <td>5945085</td>\n",
       "      <td>B</td>\n",
       "      <td>0.0</td>\n",
       "    </tr>\n",
       "    <tr>\n",
       "      <th>111</th>\n",
       "      <td>5951797</td>\n",
       "      <td>B</td>\n",
       "      <td>0.0</td>\n",
       "    </tr>\n",
       "  </tbody>\n",
       "</table>\n",
       "<p>8341 rows × 3 columns</p>\n",
       "</div>"
      ],
      "text/plain": [
       "      student_id grp    rev\n",
       "4412        1627   A  990.0\n",
       "7887        2085   B    0.0\n",
       "3144        2215   B    0.0\n",
       "3040        3391   A    0.0\n",
       "3851        3401   B    0.0\n",
       "...          ...  ..    ...\n",
       "7505     5760471   B    0.0\n",
       "5746     5777081   B    0.0\n",
       "7668     5870856   A    0.0\n",
       "3830     5945085   B    0.0\n",
       "111      5951797   B    0.0\n",
       "\n",
       "[8341 rows x 3 columns]"
      ]
     },
     "execution_count": 21,
     "metadata": {},
     "output_type": "execute_result"
    }
   ],
   "source": [
    "df_test.sort_values('student_id')  # В jupyter при отображении длинного датафрейма показывается начало и конец.\n",
    "                # Это нам на руку, чтобы посмотреть данные на наличие буквенных символов, слишком длинных или коротких id"
   ]
  },
  {
   "cell_type": "code",
   "execution_count": 22,
   "metadata": {},
   "outputs": [
    {
     "data": {
      "text/plain": [
       "array(['A', 'B'], dtype=object)"
      ]
     },
     "execution_count": 22,
     "metadata": {},
     "output_type": "execute_result"
    }
   ],
   "source": [
    "df_test.grp.unique()"
   ]
  },
  {
   "cell_type": "code",
   "execution_count": 23,
   "metadata": {},
   "outputs": [
    {
     "data": {
      "text/plain": [
       "count    8341.000000\n",
       "mean       56.083683\n",
       "std       309.620349\n",
       "min         0.000000\n",
       "25%         0.000000\n",
       "50%         0.000000\n",
       "75%         0.000000\n",
       "max      4650.000000\n",
       "Name: rev, dtype: float64"
      ]
     },
     "execution_count": 23,
     "metadata": {},
     "output_type": "execute_result"
    }
   ],
   "source": [
    "df_test.rev.describe()"
   ]
  },
  {
   "cell_type": "markdown",
   "metadata": {},
   "source": [
    "Видно, что оплат у нас произошло совсем мало, поскольку в квартилях данных стоят нули. Будем держать этот факт в голове при анализе"
   ]
  },
  {
   "cell_type": "markdown",
   "metadata": {},
   "source": [
    "В целом, похоже, что с данными все в порядке - можно приступать к анализу. Только перед этим посмотрим один момент"
   ]
  },
  {
   "cell_type": "markdown",
   "metadata": {},
   "source": [
    "____"
   ]
  },
  {
   "cell_type": "markdown",
   "metadata": {},
   "source": [
    "Из интереса рассмотрим данные с чеками в целом, чтобы убедиться, что в сестеме не было глобального сбоя, и большинство, кто хотел купить курсы, могли это сделать"
   ]
  },
  {
   "cell_type": "code",
   "execution_count": 24,
   "metadata": {},
   "outputs": [
    {
     "name": "stdout",
     "output_type": "stream",
     "text": [
      "<class 'pandas.core.frame.DataFrame'>\n",
      "RangeIndex: 541 entries, 0 to 540\n",
      "Data columns (total 2 columns):\n",
      " #   Column      Non-Null Count  Dtype  \n",
      "---  ------      --------------  -----  \n",
      " 0   student_id  541 non-null    int64  \n",
      " 1   rev         541 non-null    float64\n",
      "dtypes: float64(1), int64(1)\n",
      "memory usage: 8.6 KB\n"
     ]
    }
   ],
   "source": [
    "checks.info()"
   ]
  },
  {
   "cell_type": "code",
   "execution_count": 25,
   "metadata": {},
   "outputs": [
    {
     "data": {
      "text/plain": [
       "<matplotlib.axes._subplots.AxesSubplot at 0x7f22e0dabc88>"
      ]
     },
     "execution_count": 25,
     "metadata": {},
     "output_type": "execute_result"
    },
    {
     "data": {
      "image/png": "[encoded data removed]",
      "text/plain": [
       "<Figure size 432x288 with 1 Axes>"
      ]
     },
     "metadata": {
      "needs_background": "light"
     },
     "output_type": "display_data"
    }
   ],
   "source": [
    "sns.histplot(checks.rev, kde=True)"
   ]
  },
  {
   "cell_type": "markdown",
   "metadata": {},
   "source": [
    "Соответсвенно, пользователей, купивших курсы в дни проведения эксперимента, довольно много и распределение сумм чеков укладывается в логику покупки(нет каких-то слишком выбивающихся значений). Сравним покупки пользователей, участвовавших в эксперименте, со всеми пользователями"
   ]
  },
  {
   "cell_type": "code",
   "execution_count": 26,
   "metadata": {},
   "outputs": [
    {
     "name": "stdout",
     "output_type": "stream",
     "text": [
      "Общее количество чеков: 541\n",
      "Количество чеков в тесте: 392\n"
     ]
    }
   ],
   "source": [
    "print(f'Общее количество чеков: {checks.rev.count()}')\n",
    "print(f'Количество чеков в тесте: {df_test.query(\"rev>0\").rev.count()}')"
   ]
  },
  {
   "cell_type": "markdown",
   "metadata": {},
   "source": [
    "То есть, в эксперимент вошла большая часть чеков. Это хорошо"
   ]
  },
  {
   "cell_type": "code",
   "execution_count": 27,
   "metadata": {},
   "outputs": [
    {
     "data": {
      "text/plain": [
       "<matplotlib.legend.Legend at 0x7f22dc780438>"
      ]
     },
     "execution_count": 27,
     "metadata": {},
     "output_type": "execute_result"
    },
    {
     "data": {
      "image/png": "[encoded data removed]",
      "text/plain": [
       "<Figure size 1440x720 with 1 Axes>"
      ]
     },
     "metadata": {
      "needs_background": "light"
     },
     "output_type": "display_data"
    }
   ],
   "source": [
    "plt.figure(figsize=(20, 10))\n",
    "\n",
    "sns.histplot(df_test.query('rev>0').rev, kde=True, color='red', label='A/B-test')\n",
    "sns.histplot(checks.rev, kde=True, color='blue', label='All users')\n",
    "\n",
    "plt.legend(loc='upper right', fontsize=30)"
   ]
  },
  {
   "cell_type": "markdown",
   "metadata": {},
   "source": [
    "Распределения похожи, это является еще одним фактором для доверия к эксперименту.\n",
    "\n",
    "Приступим к его анализу"
   ]
  },
  {
   "cell_type": "markdown",
   "metadata": {},
   "source": [
    "____"
   ]
  },
  {
   "cell_type": "markdown",
   "metadata": {},
   "source": [
    "##  Далее для оценки статистической значимости будет использоваться уровень значимости 95 % (так как это стандарт и особых условий к задачам нет)"
   ]
  },
  {
   "cell_type": "markdown",
   "metadata": {},
   "source": [
    "Для начала оценим, репрезентативны ли выборки"
   ]
  },
  {
   "cell_type": "code",
   "execution_count": 28,
   "metadata": {},
   "outputs": [
    {
     "data": {
      "text/plain": [
       "B    81.560964\n",
       "A    18.439036\n",
       "Name: grp, dtype: float64"
      ]
     },
     "execution_count": 28,
     "metadata": {},
     "output_type": "execute_result"
    }
   ],
   "source": [
    "df_test.grp.value_counts(normalize=True).mul(100)"
   ]
  },
  {
   "cell_type": "markdown",
   "metadata": {},
   "source": [
    "Это соотношение является необычным, поскольку при А/В-тестировании чаще группа В делается меньше, чем группа А, что связано с дороговизной проведения теста на большой группе людей"
   ]
  },
  {
   "cell_type": "code",
   "execution_count": 29,
   "metadata": {},
   "outputs": [
    {
     "data": {
      "text/plain": [
       "B    6803\n",
       "A    1538\n",
       "Name: grp, dtype: int64"
      ]
     },
     "execution_count": 29,
     "metadata": {},
     "output_type": "execute_result"
    }
   ],
   "source": [
    "df_test.grp.value_counts()"
   ]
  },
  {
   "cell_type": "markdown",
   "metadata": {},
   "source": [
    "Возможно, этот скос произошел при \"отрезании\" неактивных пользователей. Проверим это"
   ]
  },
  {
   "cell_type": "code",
   "execution_count": 30,
   "metadata": {},
   "outputs": [
    {
     "data": {
      "text/plain": [
       "B    80.297951\n",
       "A    19.702049\n",
       "Name: grp, dtype: float64"
      ]
     },
     "execution_count": 30,
     "metadata": {},
     "output_type": "execute_result"
    }
   ],
   "source": [
    "groups_upd.grp.value_counts(normalize=True).mul(100)"
   ]
  },
  {
   "cell_type": "code",
   "execution_count": 31,
   "metadata": {},
   "outputs": [
    {
     "data": {
      "text/plain": [
       "B    59883\n",
       "A    14693\n",
       "Name: grp, dtype: int64"
      ]
     },
     "execution_count": 31,
     "metadata": {},
     "output_type": "execute_result"
    }
   ],
   "source": [
    "groups_upd.grp.value_counts()"
   ]
  },
  {
   "cell_type": "markdown",
   "metadata": {},
   "source": [
    "Нет, все примерно так и было. Соответственно, можно продолжать"
   ]
  },
  {
   "cell_type": "code",
   "execution_count": 32,
   "metadata": {},
   "outputs": [
    {
     "name": "stdout",
     "output_type": "stream",
     "text": [
      "В группе А зашло на сайт в период тестирования 10.47 %\n",
      "В группе В зашло на сайт в период тестирования 11.36 %\n"
     ]
    }
   ],
   "source": [
    "print('В группе А зашло на сайт в период тестирования', np.round(\n",
    "                        df_test.query('grp == \"A\"').student_id.count()/ groups_upd.query('grp == \"A\"').id.count()* 100, 2), '%')\n",
    "\n",
    "print('В группе В зашло на сайт в период тестирования', np.round(\n",
    "                        df_test.query('grp == \"B\"').student_id.count()/ groups_upd.query('grp == \"B\"').id.count()* 100, 2), '%')"
   ]
  },
  {
   "cell_type": "markdown",
   "metadata": {},
   "source": [
    "Для дальнейшего анализа А/В-теста выберем метрики, на основе которых мы будем принимать решение:\n",
    "\n",
    "CR - конверсия в покупку демонстрирует то, что пользователям новое введение пришлось по вкусу;\n",
    "\n",
    "ARPU - средний чек (также можно оценить ARPPU - он более точно отражает ситуацию нежели ARPU, так как это реакция именно платящих пользователей на ценность, которую приносит наш продукт)."
   ]
  },
  {
   "cell_type": "markdown",
   "metadata": {},
   "source": [
    "Посмотрим боксплоты для оценки чеков "
   ]
  },
  {
   "cell_type": "code",
   "execution_count": 33,
   "metadata": {},
   "outputs": [
    {
     "data": {
      "text/plain": [
       "<matplotlib.axes._subplots.AxesSubplot at 0x7f22dc734f28>"
      ]
     },
     "execution_count": 33,
     "metadata": {},
     "output_type": "execute_result"
    },
    {
     "data": {
      "image/png": "[encoded data removed]",
      "text/plain": [
       "<Figure size 720x720 with 1 Axes>"
      ]
     },
     "metadata": {
      "needs_background": "light"
     },
     "output_type": "display_data"
    }
   ],
   "source": [
    "plt.figure(figsize=(10, 10))\n",
    "\n",
    "sns.boxplot(data=df_test.query('rev>0'), x='grp', y='rev')"
   ]
  },
  {
   "cell_type": "markdown",
   "metadata": {},
   "source": [
    "Видно, что в среднем, значение чека для группы В больше"
   ]
  },
  {
   "cell_type": "markdown",
   "metadata": {},
   "source": [
    "Теперь рассмотрим распределение сумм чеков. При этом исключим данные, где покупки не было"
   ]
  },
  {
   "cell_type": "code",
   "execution_count": 34,
   "metadata": {},
   "outputs": [
    {
     "data": {
      "text/plain": [
       "<matplotlib.legend.Legend at 0x7f22dc677080>"
      ]
     },
     "execution_count": 34,
     "metadata": {},
     "output_type": "execute_result"
    },
    {
     "data": {
      "image/png": "[encoded data removed]",
      "text/plain": [
       "<Figure size 1440x1080 with 1 Axes>"
      ]
     },
     "metadata": {
      "needs_background": "light"
     },
     "output_type": "display_data"
    }
   ],
   "source": [
    "plt.figure(figsize=(20, 15))\n",
    "\n",
    "sns.histplot(df_test.query('(grp == \"A\") & (rev>0)').rev, kde=True, color='red', label='Group A')\n",
    "sns.histplot(df_test.query('(grp == \"B\") & (rev>0)').rev, kde=True, color='blue', label='Group B')\n",
    "\n",
    "plt.legend(loc='upper right', fontsize=30)"
   ]
  },
  {
   "cell_type": "markdown",
   "metadata": {},
   "source": [
    "Очевидно, что распределение не является нормальным. Поскольку, выборка одна и та же, то в другом при добавлении данных, где нет продаж, распределение явно нормальным не станет"
   ]
  },
  {
   "cell_type": "markdown",
   "metadata": {},
   "source": [
    "____"
   ]
  },
  {
   "cell_type": "markdown",
   "metadata": {},
   "source": [
    "Также отметим, что в тестовой группе больше всего чеков стоимостью около 2000. Посмотрим эти данные детальнее"
   ]
  },
  {
   "cell_type": "code",
   "execution_count": 35,
   "metadata": {},
   "outputs": [
    {
     "data": {
      "text/plain": [
       "1900.0000    93\n",
       "1900.0001    35\n",
       "1530.0000     5\n",
       "2099.0000     3\n",
       "1980.0000     2\n",
       "2190.0000     1\n",
       "1729.0000     1\n",
       "1968.0000     1\n",
       "2220.0000     1\n",
       "Name: rev, dtype: int64"
      ]
     },
     "execution_count": 35,
     "metadata": {},
     "output_type": "execute_result"
    }
   ],
   "source": [
    "df_test.query('(grp == \"B\") & (rev>1500)& (rev<2500)').rev.value_counts()"
   ]
  },
  {
   "cell_type": "markdown",
   "metadata": {},
   "source": [
    "Соответсвенно, большое количество чеков стоили 1900 у.е. Рекомендуется просмотреть с чем может быть связан этот факт: у нас есть много курсов с такой стоимостью, либо же какой-то определенный курс с такой стоимостью стал особо привлекателен ученикам после изменения механики оплаты. \n",
    "\n",
    "Если есть много курсов по цене 1900, то почему их покупают только люди из группы В? А если он стал привлекательным только с новой механикой оплаты, то каким образом? Новый экран оплаты как-то продвигает этот курс? Но тогда это просто промо-акция, а не новая механика оплаты. Это интересный момент, тут стоит поразмыслить.\n",
    "\n",
    "Поскольку, этих данных у нас нет, то просто примем это к сведению"
   ]
  },
  {
   "cell_type": "markdown",
   "metadata": {},
   "source": [
    "____"
   ]
  },
  {
   "cell_type": "markdown",
   "metadata": {},
   "source": [
    "Приступим к анализу. При анализе будем сначала смотреть критерий значимости и решать на его основе, есть ли смысл дальше расчитывать метрику, и, если есть, то в итоге сравнивать метрики между собой"
   ]
  },
  {
   "cell_type": "markdown",
   "metadata": {},
   "source": [
    "Сначала сравним данные с учетом только платящих пользователей"
   ]
  },
  {
   "cell_type": "code",
   "execution_count": 36,
   "metadata": {},
   "outputs": [
    {
     "data": {
      "text/plain": [
       "MannwhitneyuResult(statistic=9001.0, pvalue=0.0002511393831406922)"
      ]
     },
     "execution_count": 36,
     "metadata": {},
     "output_type": "execute_result"
    }
   ],
   "source": [
    "ss.mannwhitneyu(df_test.query('(grp == \"A\") & (rev>0)').rev, df_test.query('(grp == \"B\") & (rev>0)').rev)"
   ]
  },
  {
   "cell_type": "markdown",
   "metadata": {},
   "source": [
    "Соответсвенно, различие значений для расчета метрик, учитывающих только размер чека, статистически значимо"
   ]
  },
  {
   "cell_type": "markdown",
   "metadata": {},
   "source": [
    "Расчитаем ARPPU для групп:\n",
    "Поскольку распределение не является нормальным, то необходимо расчитать медиану, чтобы исключить влияние аномально больших или малых чеков"
   ]
  },
  {
   "cell_type": "code",
   "execution_count": 37,
   "metadata": {},
   "outputs": [
    {
     "name": "stdout",
     "output_type": "stream",
     "text": [
      "ARPPU for A-group: 933.5897435897435\n",
      "ARPPU for B-group: 1257.8789920382164\n"
     ]
    }
   ],
   "source": [
    "print('ARPPU for A-group:', df_test.query('(grp == \"A\") & (rev>0)').rev.mean())\n",
    "print('ARPPU for B-group:', df_test.query('(grp == \"B\") & (rev>0)').rev.mean())"
   ]
  },
  {
   "cell_type": "markdown",
   "metadata": {},
   "source": [
    "#### Важный вывод:\n",
    "##### ARPPU увеличился"
   ]
  },
  {
   "cell_type": "markdown",
   "metadata": {},
   "source": [
    "Далее, нет необходимости в оценке формы распределения величин, поскольку мы уже значем, что у нас очень много данных, где оплаты не производилось. Соответсвенно, для них распределение точно не будет нормальным"
   ]
  },
  {
   "cell_type": "markdown",
   "metadata": {},
   "source": [
    "Оценим стат.значимость различия в суммах чеков всех пользователей"
   ]
  },
  {
   "cell_type": "code",
   "execution_count": 38,
   "metadata": {},
   "outputs": [
    {
     "data": {
      "text/plain": [
       "MannwhitneyuResult(statistic=5252113.0, pvalue=0.5099747992861601)"
      ]
     },
     "execution_count": 38,
     "metadata": {},
     "output_type": "execute_result"
    }
   ],
   "source": [
    "ss.mannwhitneyu(df_test.query('grp == \"A\"').rev, df_test.query('grp == \"B\"').rev)"
   ]
  },
  {
   "cell_type": "markdown",
   "metadata": {},
   "source": [
    "Соответсвенно, различие значений метрик, учитывающих траты всех пользователей, участвующих в эксперименте, не значимо статистически -  \n",
    "#### значит расчитывать ARPU нет смысла"
   ]
  },
  {
   "cell_type": "markdown",
   "metadata": {},
   "source": [
    "Теперь через Хи-квадрат оценим стат.значимость различий данных для расчета CR"
   ]
  },
  {
   "cell_type": "code",
   "execution_count": 39,
   "metadata": {},
   "outputs": [],
   "source": [
    "x1 = df_test.query('rev != 0 and grp == \"A\"').rev.count()  # Те, кто сделал покупку в группе А\n",
    "x2 = df_test.query('grp == \"A\"').rev.count()               # Пользователи группы А\n",
    "y1 = df_test.query('rev != 0 and grp == \"B\"').rev.count()  # Те, кто сделал покупку в группе В\n",
    "y2 = df_test.query('grp == \"B\"').rev.count()               # Пользователи группы В"
   ]
  },
  {
   "cell_type": "code",
   "execution_count": 40,
   "metadata": {},
   "outputs": [
    {
     "name": "stdout",
     "output_type": "stream",
     "text": [
      "p_value =  0.5089998823014525\n"
     ]
    }
   ],
   "source": [
    "tstat, p_value, ddof, exp = ss.chi2_contingency(pd.DataFrame({'a': [x1, x2], 'b': [y1, y2]}))\n",
    "\n",
    "print('p_value = ', p_value)"
   ]
  },
  {
   "cell_type": "markdown",
   "metadata": {},
   "source": [
    "#### Следовательно, на CR новая фича не оказала значимого влияния"
   ]
  },
  {
   "cell_type": "markdown",
   "metadata": {},
   "source": [
    "### Предварительный итог:\n",
    "#### Новый механизм оплаты увеличил средний чек платящего пользователя, но при этом не повлиял на CR и ARPU. Если данный эффект удовлетворяет гипотезам и целям, которые были поставлены при дизайне А/В теста, то данную механику стоит запустить\n",
    "Для установления вероятных причин такого эффекта необходима более подробная информация тестирования(к примеру, даты, когда какой пользователь посещал сайт и производил оплату), а также информация, о старом и новом механизмах оплат(в чем они заключаются и как меняют условия использования сайтом)"
   ]
  },
  {
   "cell_type": "markdown",
   "metadata": {},
   "source": [
    "____"
   ]
  },
  {
   "cell_type": "markdown",
   "metadata": {},
   "source": [
    "#### Бутстреп"
   ]
  },
  {
   "cell_type": "markdown",
   "metadata": {},
   "source": [
    "Попробуем проанализировать А/В-тест при помощи бутстрепa"
   ]
  },
  {
   "cell_type": "markdown",
   "metadata": {},
   "source": [
    "Чтобы оценка стандартного отклонения была несмещённой, необходимо генерировать выборки такого же размера, как и размер\n",
    "исходной выборки, это связно с тем что наша выборка должно сохраниться исходное соотношение для каждой случайной величины.\n",
    "\n",
    "Количество итераций бутстрепа рекомендуется брать в диапазоне от 1000 до 10000 (возьмем 5000 для быстроты проведения теста)."
   ]
  },
  {
   "cell_type": "markdown",
   "metadata": {},
   "source": [
    "Алгоритм решения будет следующим:\n",
    "\n",
    "1) Генерируем пару подвыборок того же размера из исходных данных контрольной и экспериментальной групп;\n",
    "\n",
    "2) Считаем метрики для каждой из групп;\n",
    "\n",
    "3) Сравниваем разность метрик, сохраняем полученное значение;\n",
    "\n",
    "4) Повторяем 1-3 шаги 5000 раз;\n",
    "\n",
    "5) Строим доверительный интервал (ДИ) с нужным нам уровнем значимости я (ранее мы определили его равным 95 %);\n",
    "\n",
    "6) Если 0 не принадлежит ДИ, то отличия статистически значимы на уровне значимости"
   ]
  },
  {
   "cell_type": "code",
   "execution_count": 41,
   "metadata": {},
   "outputs": [
    {
     "data": {
      "text/html": [
       "<div>\n",
       "<style scoped>\n",
       "    .dataframe tbody tr th:only-of-type {\n",
       "        vertical-align: middle;\n",
       "    }\n",
       "\n",
       "    .dataframe tbody tr th {\n",
       "        vertical-align: top;\n",
       "    }\n",
       "\n",
       "    .dataframe thead th {\n",
       "        text-align: right;\n",
       "    }\n",
       "</style>\n",
       "<table border=\"1\" class=\"dataframe\">\n",
       "  <thead>\n",
       "    <tr style=\"text-align: right;\">\n",
       "      <th></th>\n",
       "      <th>student_id</th>\n",
       "      <th>grp</th>\n",
       "      <th>rev</th>\n",
       "    </tr>\n",
       "  </thead>\n",
       "  <tbody>\n",
       "    <tr>\n",
       "      <th>0</th>\n",
       "      <td>581585</td>\n",
       "      <td>A</td>\n",
       "      <td>0.0</td>\n",
       "    </tr>\n",
       "    <tr>\n",
       "      <th>1</th>\n",
       "      <td>5723133</td>\n",
       "      <td>A</td>\n",
       "      <td>0.0</td>\n",
       "    </tr>\n",
       "    <tr>\n",
       "      <th>2</th>\n",
       "      <td>3276743</td>\n",
       "      <td>B</td>\n",
       "      <td>0.0</td>\n",
       "    </tr>\n",
       "    <tr>\n",
       "      <th>3</th>\n",
       "      <td>4238589</td>\n",
       "      <td>A</td>\n",
       "      <td>0.0</td>\n",
       "    </tr>\n",
       "    <tr>\n",
       "      <th>4</th>\n",
       "      <td>4475369</td>\n",
       "      <td>B</td>\n",
       "      <td>0.0</td>\n",
       "    </tr>\n",
       "  </tbody>\n",
       "</table>\n",
       "</div>"
      ],
      "text/plain": [
       "   student_id grp  rev\n",
       "0      581585   A  0.0\n",
       "1     5723133   A  0.0\n",
       "2     3276743   B  0.0\n",
       "3     4238589   A  0.0\n",
       "4     4475369   B  0.0"
      ]
     },
     "execution_count": 41,
     "metadata": {},
     "output_type": "execute_result"
    }
   ],
   "source": [
    "df_test.head()"
   ]
  },
  {
   "cell_type": "code",
   "execution_count": 42,
   "metadata": {},
   "outputs": [],
   "source": [
    "df_boost_ARPPU_A = df_test.query('(grp == \"A\") & (rev>0)').rev\n",
    "df_boost_ARPPU_B = df_test.query('(grp == \"B\") & (rev>0)').rev\n",
    "\n",
    "df_boost_ARPU_A = df_test.query('(grp == \"A\")').rev\n",
    "df_boost_ARPU_B = df_test.query('(grp == \"B\")').rev\n",
    "\n",
    "df_test['paid'] = df_test.rev>0\n",
    "df_boost_CR_A = df_test.query('(grp == \"A\")').paid\n",
    "df_boost_CR_B = df_test.query('(grp == \"B\")').paid"
   ]
  },
  {
   "cell_type": "code",
   "execution_count": 43,
   "metadata": {},
   "outputs": [],
   "source": [
    "color = sns.color_palette(palette='Set2')[0]\n",
    "def get_bootstrap(\n",
    "    data_column_1,  # Числовые значения первой выборки\n",
    "    data_column_2,  # Числовые значения второй выборки\n",
    "    boot_it = 5000,  # Количество бутстрэп-подвыборок\n",
    "    statistic = np.mean,  # Интересующая нас статистика\n",
    "    bootstrap_conf_level = 0.95  # Уровень значимости\n",
    "                    ):\n",
    "    \"\"\"Эта функция проводит бутстрапинг\"\"\"\n",
    "    boot_len = max([len(data_column_1), len(data_column_2)])\n",
    "    boot_data = []\n",
    "    for i in range(boot_it): # Извлекаем подвыборки\n",
    "        samples_1 = data_column_1.sample(\n",
    "            boot_len, \n",
    "            replace = True  # Параметр возвращения\n",
    "        ).values\n",
    "        \n",
    "        samples_2 = data_column_2.sample(\n",
    "            boot_len, \n",
    "            replace = True\n",
    "        ).values\n",
    "        \n",
    "        boot_data.append(statistic(samples_1)-statistic(samples_2))  # mean() - применяем статистику\n",
    "        \n",
    "    pd_boot_data = pd.DataFrame(boot_data)\n",
    "    alpha = 1 - bootstrap_conf_level\n",
    "    \n",
    "    left_quant = (alpha)/2\n",
    "    right_quant = 1 - (alpha) / 2\n",
    "    quants = pd_boot_data.quantile([left_quant, right_quant])\n",
    "        \n",
    "    p_1 = ss.norm.cdf(\n",
    "        x = 0, \n",
    "        loc = np.mean(boot_data), \n",
    "        scale = np.std(boot_data)\n",
    "    )\n",
    "    p_2 = ss.norm.cdf(\n",
    "        x = 0, \n",
    "        loc = -np.mean(boot_data), \n",
    "        scale = np.std(boot_data)\n",
    "    )\n",
    "    p_value = min(p_1, p_2) * 2\n",
    "    \n",
    "    \n",
    "    # Визуализация\n",
    "    _, _, bars = plt.hist(pd_boot_data[0], bins = 50)\n",
    "    for bar in bars:\n",
    "        if bar.get_x() <= quants.iloc[0][0] or bar.get_x() >= quants.iloc[1][0]:\n",
    "            bar.set_facecolor('red')\n",
    "        else: \n",
    "            bar.set_facecolor(color)\n",
    "    \n",
    "    plt.axvline(quants.values[0][0],linestyle='--', label ='confidence interval')\n",
    "    plt.axvline(quants.values[1][0],linestyle='--')\n",
    "\n",
    "    plt.xlabel('boot_data')\n",
    "    plt.ylabel('frequency')\n",
    "    plt.title(\"Histogram of boot_data\")\n",
    "    plt.legend()\n",
    "    plt.show()\n",
    "\n",
    "\n",
    "    return {\"boot_data\": boot_data, \n",
    "            \"quants\": quants, \n",
    "            \"p_value\": p_value}"
   ]
  },
  {
   "cell_type": "code",
   "execution_count": 45,
   "metadata": {},
   "outputs": [
    {
     "data": {
      "image/png": "[encoded data removed]",
      "text/plain": [
       "<Figure size 432x288 with 1 Axes>"
      ]
     },
     "metadata": {
      "needs_background": "light"
     },
     "output_type": "display_data"
    },
    {
     "name": "stdout",
     "output_type": "stream",
     "text": [
      "P-value =  1.176e-06\n"
     ]
    }
   ],
   "source": [
    "boost_ARPPU = get_bootstrap(pd.Series(df_boost_ARPPU_A), pd.Series(df_boost_ARPPU_B))\n",
    "print(f'P-value =  {boost_ARPPU[\"p_value\"]:.4}')"
   ]
  },
  {
   "cell_type": "markdown",
   "metadata": {},
   "source": [
    "То есть, подтвердилось наше предположение, что данные для расчета ARPPU статистистически значимо различаются"
   ]
  },
  {
   "cell_type": "code",
   "execution_count": 46,
   "metadata": {},
   "outputs": [
    {
     "data": {
      "image/png": "[encoded data removed]",
      "text/plain": [
       "<Figure size 432x288 with 1 Axes>"
      ]
     },
     "metadata": {
      "needs_background": "light"
     },
     "output_type": "display_data"
    },
    {
     "name": "stdout",
     "output_type": "stream",
     "text": [
      "P-value =  0.03848\n"
     ]
    }
   ],
   "source": [
    "boost_ARPU = get_bootstrap(pd.Series(df_boost_ARPU_A), pd.Series(df_boost_ARPU_B))\n",
    "print(f'P-value =  {boost_ARPU[\"p_value\"]:.4}')"
   ]
  },
  {
   "cell_type": "markdown",
   "metadata": {},
   "source": [
    "При оценке стат.значимости данных, используемых для расчета ARPU, видно, что все же различия стат.значимы. Значение довольно близко к максимальному значению допускаемой ошибки. Для того, чтобы понять, стоит ли полагаться на различия ARPU, необходимо сначала определить наши цели и средства, которые мы потратим при запуске новой механики оплаты для всех наших пользователей. \n",
    "\n",
    "Поскольку, данных касательно этого аспекта у меня нет, то я все же приму решение рассчитывать ARPU"
   ]
  },
  {
   "cell_type": "code",
   "execution_count": 47,
   "metadata": {},
   "outputs": [
    {
     "data": {
      "text/html": [
       "<div>\n",
       "<style scoped>\n",
       "    .dataframe tbody tr th:only-of-type {\n",
       "        vertical-align: middle;\n",
       "    }\n",
       "\n",
       "    .dataframe tbody tr th {\n",
       "        vertical-align: top;\n",
       "    }\n",
       "\n",
       "    .dataframe thead th {\n",
       "        text-align: right;\n",
       "    }\n",
       "</style>\n",
       "<table border=\"1\" class=\"dataframe\">\n",
       "  <thead>\n",
       "    <tr style=\"text-align: right;\">\n",
       "      <th></th>\n",
       "      <th>student_id</th>\n",
       "      <th>grp</th>\n",
       "      <th>rev</th>\n",
       "      <th>paid</th>\n",
       "    </tr>\n",
       "  </thead>\n",
       "  <tbody>\n",
       "    <tr>\n",
       "      <th>0</th>\n",
       "      <td>581585</td>\n",
       "      <td>A</td>\n",
       "      <td>0.0</td>\n",
       "      <td>False</td>\n",
       "    </tr>\n",
       "    <tr>\n",
       "      <th>1</th>\n",
       "      <td>5723133</td>\n",
       "      <td>A</td>\n",
       "      <td>0.0</td>\n",
       "      <td>False</td>\n",
       "    </tr>\n",
       "    <tr>\n",
       "      <th>2</th>\n",
       "      <td>3276743</td>\n",
       "      <td>B</td>\n",
       "      <td>0.0</td>\n",
       "      <td>False</td>\n",
       "    </tr>\n",
       "    <tr>\n",
       "      <th>3</th>\n",
       "      <td>4238589</td>\n",
       "      <td>A</td>\n",
       "      <td>0.0</td>\n",
       "      <td>False</td>\n",
       "    </tr>\n",
       "    <tr>\n",
       "      <th>4</th>\n",
       "      <td>4475369</td>\n",
       "      <td>B</td>\n",
       "      <td>0.0</td>\n",
       "      <td>False</td>\n",
       "    </tr>\n",
       "  </tbody>\n",
       "</table>\n",
       "</div>"
      ],
      "text/plain": [
       "   student_id grp  rev   paid\n",
       "0      581585   A  0.0  False\n",
       "1     5723133   A  0.0  False\n",
       "2     3276743   B  0.0  False\n",
       "3     4238589   A  0.0  False\n",
       "4     4475369   B  0.0  False"
      ]
     },
     "execution_count": 47,
     "metadata": {},
     "output_type": "execute_result"
    }
   ],
   "source": [
    "df_test.head()"
   ]
  },
  {
   "cell_type": "code",
   "execution_count": 48,
   "metadata": {},
   "outputs": [
    {
     "name": "stdout",
     "output_type": "stream",
     "text": [
      "ARPU for A-group: 47.35\n",
      "ARPU for B-group: 58.06\n"
     ]
    }
   ],
   "source": [
    "print('ARPU for A-group:', np.round(\n",
    "    df_test.query('(grp == \"A\")').rev.sum()/ df_test.query('(grp == \"A\")').student_id.count(), 2))\n",
    "print('ARPU for B-group:', np.round(\n",
    "    df_test.query('(grp == \"B\")').rev.sum()/ df_test.query('(grp == \"B\")').student_id.count(), 2))"
   ]
  },
  {
   "cell_type": "markdown",
   "metadata": {},
   "source": [
    "### Новая механика оплаты увеличила средний чек пользователя"
   ]
  },
  {
   "cell_type": "code",
   "execution_count": 49,
   "metadata": {},
   "outputs": [
    {
     "data": {
      "image/png": "[encoded data removed]",
      "text/plain": [
       "<Figure size 432x288 with 1 Axes>"
      ]
     },
     "metadata": {
      "needs_background": "light"
     },
     "output_type": "display_data"
    }
   ],
   "source": [
    "boost_CR = get_bootstrap(pd.Series(df_boost_CR_A), pd.Series(df_boost_CR_B))"
   ]
  },
  {
   "cell_type": "markdown",
   "metadata": {},
   "source": [
    "Тут сразу же очевидно, что возможные различия в CR не будут статистически значимы, поскольку данные, по которым они расчитываются, не имеют между собой стат.значимых различий"
   ]
  },
  {
   "cell_type": "markdown",
   "metadata": {},
   "source": [
    "#### После бутстрепинга было принято решение также принять при во внимание увеличение среднего чека\n",
    "\n",
    "## ИТОГ\n",
    "\n",
    "### Новый механизм оплаты увеличил ARPU и ARPРU, но при этом не повлиял на CR. Если данный эффект удовлетворяет гипотезам и целям, которые были поставлены при дизайне А/В теста, то данную механику стоит запустить"
   ]
  },
  {
   "cell_type": "markdown",
   "metadata": {},
   "source": [
    "____"
   ]
  },
  {
   "cell_type": "markdown",
   "metadata": {},
   "source": [
    "# SQL"
   ]
  },
  {
   "cell_type": "markdown",
   "metadata": {},
   "source": [
    "Задача 1:\n",
    "\n",
    "Образовательные курсы состоят из различных уроков, каждый из которых состоит из нескольких маленьких заданий. Каждое такое маленькое задание называется \"горошиной\".\n",
    "Назовём очень усердным учеником того пользователя, который хотя бы раз за текущий месяц правильно решил 20 горошин.\n",
    "\n",
    "Необходимо написать оптимальный запрос, который даст информацию о количестве очень усердных студентов.\n",
    "NB!"
   ]
  },
  {
   "cell_type": "code",
   "execution_count": 50,
   "metadata": {},
   "outputs": [],
   "source": [
    "import pandahouse as ph"
   ]
  },
  {
   "cell_type": "code",
   "execution_count": 51,
   "metadata": {},
   "outputs": [],
   "source": [
    "connection = dict(database='default',\n",
    "              host='https://clickhouse.lab.karpov.courses',\n",
    "              user='student',\n",
    "              password='dpo_python_2020')"
   ]
  },
  {
   "cell_type": "code",
   "execution_count": 52,
   "metadata": {},
   "outputs": [
    {
     "name": "stdout",
     "output_type": "stream",
     "text": [
      "Количество усердных учеников за месяц: \n",
      "    The_answer\n",
      "0         130\n"
     ]
    }
   ],
   "source": [
    "query = \\\n",
    "\"\"\"\n",
    "SELECT\n",
    "    COUNT(st_id) AS The_answer\n",
    "FROM\n",
    "    (\n",
    "    SELECT \n",
    "        toStartOfMonth(timest) AS month,\n",
    "        st_id,\n",
    "        SUM(correct) AS solved_tasks\n",
    "    FROM default.peas\n",
    "    GROUP BY st_id, month\n",
    "    HAVING solved_tasks > 20\n",
    "    )\n",
    "\"\"\"\n",
    "\n",
    "df_sql = ph.read_clickhouse(query, connection=connection)\n",
    "print('Количество усердных учеников за месяц: \\n', df_sql)"
   ]
  },
  {
   "cell_type": "markdown",
   "metadata": {},
   "source": [
    "____"
   ]
  },
  {
   "cell_type": "markdown",
   "metadata": {},
   "source": [
    "Задача 2:\n",
    "    \n",
    "Образовательная платформа предлагает пройти студентам курсы по модели trial: студент может решить бесплатно лишь 30 горошин в день. Для неограниченного количества заданий в определенной дисциплине студенту необходимо приобрести полный доступ. \n",
    "\n",
    "\n",
    "Команда провела эксперимент, где был протестирован новый экран оплаты. Необходимо в одном запросе выгрузить следующую информацию о группах пользователей:\n",
    "ARPU, \n",
    "ARPAU,\n",
    "CR в покупку,\n",
    "СR активного пользователя в покупку, \n",
    "CR пользователя из активности по математике (subject = ’math’) в покупку курса.\n",
    "\n",
    "ARPU считается относительно всех пользователей, попавших в группы.\n",
    "Активным считается пользователь, за все время решивший больше 10 задач правильно в любых дисциплинах.\n",
    "Активным по математике считается пользователь, за все время решивший 2 или больше задач правильно по математике.\n",
    "\n",
    "Даны таблицы: default.peas, default.studs и default.final_project_check."
   ]
  },
  {
   "cell_type": "markdown",
   "metadata": {},
   "source": [
    "Также команда провела эксперимент, где был протестирован новый экран оплаты. Стоит ли выкатывать данное изменение?"
   ]
  },
  {
   "cell_type": "markdown",
   "metadata": {},
   "source": [
    "Сначала напишем SQL-запрос по заданию, а дальше проанализируем и примем решение по А/В-тесту исходя из предположения, что данные репрезентативны и никаких ошибок и аномалий в них нет"
   ]
  },
  {
   "cell_type": "code",
   "execution_count": 53,
   "metadata": {},
   "outputs": [
    {
     "data": {
      "text/html": [
       "<div>\n",
       "<style scoped>\n",
       "    .dataframe tbody tr th:only-of-type {\n",
       "        vertical-align: middle;\n",
       "    }\n",
       "\n",
       "    .dataframe tbody tr th {\n",
       "        vertical-align: top;\n",
       "    }\n",
       "\n",
       "    .dataframe thead th {\n",
       "        text-align: right;\n",
       "    }\n",
       "</style>\n",
       "<table border=\"1\" class=\"dataframe\">\n",
       "  <thead>\n",
       "    <tr style=\"text-align: right;\">\n",
       "      <th></th>\n",
       "      <th>test_group</th>\n",
       "      <th>ARPU</th>\n",
       "      <th>CR</th>\n",
       "      <th>CR_active_user</th>\n",
       "      <th>ARPAU</th>\n",
       "      <th>CR_active_math_user</th>\n",
       "    </tr>\n",
       "  </thead>\n",
       "  <tbody>\n",
       "    <tr>\n",
       "      <th>0</th>\n",
       "      <td>control</td>\n",
       "      <td>4540.98</td>\n",
       "      <td>4.92</td>\n",
       "      <td>11.02</td>\n",
       "      <td>10393.70</td>\n",
       "      <td>10.20</td>\n",
       "    </tr>\n",
       "    <tr>\n",
       "      <th>1</th>\n",
       "      <td>pilot</td>\n",
       "      <td>11508.47</td>\n",
       "      <td>10.85</td>\n",
       "      <td>26.04</td>\n",
       "      <td>29739.58</td>\n",
       "      <td>14.29</td>\n",
       "    </tr>\n",
       "  </tbody>\n",
       "</table>\n",
       "</div>"
      ],
      "text/plain": [
       "  test_group      ARPU     CR  CR_active_user     ARPAU  CR_active_math_user\n",
       "0    control   4540.98   4.92           11.02  10393.70                10.20\n",
       "1      pilot  11508.47  10.85           26.04  29739.58                14.29"
      ]
     },
     "execution_count": 53,
     "metadata": {},
     "output_type": "execute_result"
    }
   ],
   "source": [
    "query = \\\n",
    "\"\"\"\n",
    "SELECT \n",
    "    math.test_group AS test_group, \n",
    "    ROUND(ARPU, 2) AS ARPU, \n",
    "    ROUND(CR, 2) AS CR,\n",
    "    ROUND(CR_active_user, 2) AS CR_active_user, \n",
    "    ROUND(ARPAU, 2) AS ARPAU,\n",
    "    ROUND(CR_active_math_user, 2) AS CR_active_math_user\n",
    "    \n",
    "FROM (\n",
    "    SELECT  \n",
    "            u.test_grp AS test_group,\n",
    "            (uniqIf(u.st_id, p.money > 0)/COUNT(DISTINCT u.st_id)*100) AS CR,\n",
    "            (SUM(p.money)/COUNT(DISTINCT u.st_id)) AS ARPU\n",
    "        FROM default.studs AS u\n",
    "        FULL OUTER JOIN (SELECT st_id, money, subject AS paid_subject FROM default.final_project_check) AS p\n",
    "            ON u.st_id = p.st_id\n",
    "        GROUP BY test_group\n",
    "    ) AS all\n",
    "    /* Расчитали только те метрики, где используются все пользователи */\n",
    "\n",
    "INNER JOIN (\n",
    "            SELECT\n",
    "                test_group,\n",
    "                (uniqIf(st_id, money > 0)/COUNT(DISTINCT st_id)*100) AS CR_active_user,\n",
    "                (SUM(money)/COUNT(DISTINCT st_id)) AS ARPAU\n",
    "            FROM (\n",
    "                SELECT \n",
    "                    paid.st_id AS st_id,\n",
    "                    paid.test_group AS test_group,\n",
    "                    active.active_user AS active_user,\n",
    "                    paid.money AS money\n",
    "                FROM (\n",
    "                    SELECT  \n",
    "                        u.st_id AS st_id,\n",
    "                        u.test_grp AS test_group,\n",
    "                        p.money AS money\n",
    "                    FROM default.studs AS u\n",
    "                    FULL OUTER JOIN (SELECT st_id, money, subject AS paid_subject FROM default.final_project_check) AS p\n",
    "                        ON u.st_id = p.st_id\n",
    "                    ) AS paid\n",
    "                LEFT JOIN (\n",
    "                            SELECT\n",
    "                                st_id,\n",
    "                                (SUM(correct)>10) AS active_user\n",
    "                            FROM default.peas\n",
    "                            GROUP BY st_id\n",
    "                            ) AS active\n",
    "                    ON paid.st_id = active.st_id\n",
    "                HAVING active_user > 0\n",
    "                )\n",
    "            GROUP BY test_group\n",
    "            ) AS active\n",
    "            /* Расчитали те метрики, где используются только активные пользователи */\n",
    "    ON all.test_group = active.test_group\n",
    "    \n",
    "INNER JOIN (\n",
    "            SELECT\n",
    "                test_group,\n",
    "                (uniqIf(st_id, money > 0)/COUNT(DISTINCT st_id)*100) AS CR_active_math_user\n",
    "            FROM (\n",
    "                SELECT \n",
    "                    paid.st_id AS st_id,\n",
    "                    paid.test_group AS test_group,\n",
    "                    math.active_MATH_user AS active_MATH_user,\n",
    "                    paid.money AS money\n",
    "                FROM (\n",
    "                    SELECT  \n",
    "                        u.st_id AS st_id,\n",
    "                        u.test_grp AS test_group,\n",
    "                        p.money AS money\n",
    "                    FROM default.studs AS u\n",
    "                    FULL OUTER JOIN (SELECT st_id, money, subject AS paid_subject FROM default.final_project_check) AS p\n",
    "                        ON u.st_id = p.st_id\n",
    "                    ) AS paid\n",
    "                LEFT JOIN (\n",
    "                            SELECT\n",
    "                                st_id,\n",
    "                                (SUM(correct)>=2) AS active_MATH_user\n",
    "                            FROM default.peas\n",
    "                            WHERE subject == 'Math'\n",
    "                            GROUP BY st_id\n",
    "                            ) AS math\n",
    "                    ON paid.st_id = math.st_id\n",
    "                HAVING active_MATH_user > 0\n",
    "                )\n",
    "            GROUP BY test_group\n",
    "            ) AS math\n",
    "            /* Расчитали метрику, где используются только активные пользователи по математике */\n",
    "    ON active.test_group = math.test_group\n",
    "\"\"\"\n",
    "\n",
    "df_sql = ph.read_clickhouse(query, connection=connection)\n",
    "\n",
    "df_sql"
   ]
  },
  {
   "cell_type": "markdown",
   "metadata": {},
   "source": [
    "Судя по результатам, показатели по всем исследуемым метрикам увеличились. Но не нужно спешить с выводами. Оценим статистическую значимость различий данных, на основе которых вычисляются данные метрики, чтобы сделать окончательный вывод."
   ]
  },
  {
   "cell_type": "code",
   "execution_count": 54,
   "metadata": {},
   "outputs": [
    {
     "data": {
      "text/html": [
       "<div>\n",
       "<style scoped>\n",
       "    .dataframe tbody tr th:only-of-type {\n",
       "        vertical-align: middle;\n",
       "    }\n",
       "\n",
       "    .dataframe tbody tr th {\n",
       "        vertical-align: top;\n",
       "    }\n",
       "\n",
       "    .dataframe thead th {\n",
       "        text-align: right;\n",
       "    }\n",
       "</style>\n",
       "<table border=\"1\" class=\"dataframe\">\n",
       "  <thead>\n",
       "    <tr style=\"text-align: right;\">\n",
       "      <th></th>\n",
       "      <th>st_id</th>\n",
       "      <th>group</th>\n",
       "      <th>money</th>\n",
       "    </tr>\n",
       "  </thead>\n",
       "  <tbody>\n",
       "    <tr>\n",
       "      <th>0</th>\n",
       "      <td>100379</td>\n",
       "      <td>pilot</td>\n",
       "      <td>0</td>\n",
       "    </tr>\n",
       "    <tr>\n",
       "      <th>1</th>\n",
       "      <td>101432</td>\n",
       "      <td>control</td>\n",
       "      <td>85000</td>\n",
       "    </tr>\n",
       "    <tr>\n",
       "      <th>2</th>\n",
       "      <td>101432</td>\n",
       "      <td>control</td>\n",
       "      <td>65000</td>\n",
       "    </tr>\n",
       "    <tr>\n",
       "      <th>3</th>\n",
       "      <td>104818</td>\n",
       "      <td>pilot</td>\n",
       "      <td>0</td>\n",
       "    </tr>\n",
       "    <tr>\n",
       "      <th>4</th>\n",
       "      <td>104885</td>\n",
       "      <td>pilot</td>\n",
       "      <td>65000</td>\n",
       "    </tr>\n",
       "  </tbody>\n",
       "</table>\n",
       "</div>"
      ],
      "text/plain": [
       "    st_id    group  money\n",
       "0  100379    pilot      0\n",
       "1  101432  control  85000\n",
       "2  101432  control  65000\n",
       "3  104818    pilot      0\n",
       "4  104885    pilot  65000"
      ]
     },
     "execution_count": 54,
     "metadata": {},
     "output_type": "execute_result"
    }
   ],
   "source": [
    "query = \\\n",
    "\"\"\"\n",
    "        SELECT  \n",
    "            u.st_id AS st_id,\n",
    "            u.test_grp AS group,\n",
    "            p.money AS money\n",
    "        FROM default.studs AS u\n",
    "        FULL OUTER JOIN (SELECT st_id, money, subject AS paid_subject FROM default.final_project_check) AS p\n",
    "            ON u.st_id = p.st_id\n",
    "\"\"\"\n",
    "\n",
    "all = ph.read_clickhouse(query, connection=connection)\n",
    "\n",
    "all.head()"
   ]
  },
  {
   "cell_type": "code",
   "execution_count": 55,
   "metadata": {},
   "outputs": [
    {
     "name": "stdout",
     "output_type": "stream",
     "text": [
      "p_value =  0.0032338206306879243\n"
     ]
    }
   ],
   "source": [
    "x1 = all.query('money != 0 and group == \"control\"').money.count()  # Те, кто сделал покупку в группе А\n",
    "x2 = all.query('group == \"control\"').money.count()                 # Пользователи группы А\n",
    "y1 = all.query('money != 0 and group == \"pilot\"').money.count()    # Те, кто сделал покупку в группе В\n",
    "y2 = all.query('group == \"pilot\"').money.count()                   # Пользователи группы В\n",
    "\n",
    "tstat, p_value, ddof, exp = ss.chi2_contingency(pd.DataFrame({'a': [x1, x2], 'b': [y1, y2]}))\n",
    "\n",
    "print('p_value = ', p_value)"
   ]
  },
  {
   "cell_type": "code",
   "execution_count": 56,
   "metadata": {},
   "outputs": [
    {
     "data": {
      "text/plain": [
       "ShapiroResult(statistic=0.25223469734191895, pvalue=2.462639542808576e-33)"
      ]
     },
     "execution_count": 56,
     "metadata": {},
     "output_type": "execute_result"
    }
   ],
   "source": [
    "ss.shapiro(all.query('group == \"control\"').money)"
   ]
  },
  {
   "cell_type": "code",
   "execution_count": 57,
   "metadata": {},
   "outputs": [
    {
     "data": {
      "text/plain": [
       "ShapiroResult(statistic=0.43216997385025024, pvalue=5.9312394299553374e-30)"
      ]
     },
     "execution_count": 57,
     "metadata": {},
     "output_type": "execute_result"
    }
   ],
   "source": [
    "ss.shapiro(all.query('group == \"pilot\"').money)"
   ]
  },
  {
   "cell_type": "code",
   "execution_count": 58,
   "metadata": {},
   "outputs": [
    {
     "data": {
      "text/plain": [
       "MannwhitneyuResult(statistic=43234.5, pvalue=0.0006504608682406065)"
      ]
     },
     "execution_count": 58,
     "metadata": {},
     "output_type": "execute_result"
    }
   ],
   "source": [
    "ss.mannwhitneyu(all.query('group == \"control\"').money, all.query('group == \"pilot\"').money)"
   ]
  },
  {
   "cell_type": "markdown",
   "metadata": {},
   "source": [
    "#### Различия по CR и ARPU статистически значимы"
   ]
  },
  {
   "cell_type": "code",
   "execution_count": 59,
   "metadata": {},
   "outputs": [
    {
     "data": {
      "text/html": [
       "<div>\n",
       "<style scoped>\n",
       "    .dataframe tbody tr th:only-of-type {\n",
       "        vertical-align: middle;\n",
       "    }\n",
       "\n",
       "    .dataframe tbody tr th {\n",
       "        vertical-align: top;\n",
       "    }\n",
       "\n",
       "    .dataframe thead th {\n",
       "        text-align: right;\n",
       "    }\n",
       "</style>\n",
       "<table border=\"1\" class=\"dataframe\">\n",
       "  <thead>\n",
       "    <tr style=\"text-align: right;\">\n",
       "      <th></th>\n",
       "      <th>st_id</th>\n",
       "      <th>group</th>\n",
       "      <th>active_user</th>\n",
       "      <th>money</th>\n",
       "    </tr>\n",
       "  </thead>\n",
       "  <tbody>\n",
       "    <tr>\n",
       "      <th>0</th>\n",
       "      <td>100379</td>\n",
       "      <td>pilot</td>\n",
       "      <td>1</td>\n",
       "      <td>0</td>\n",
       "    </tr>\n",
       "    <tr>\n",
       "      <th>1</th>\n",
       "      <td>101432</td>\n",
       "      <td>control</td>\n",
       "      <td>1</td>\n",
       "      <td>85000</td>\n",
       "    </tr>\n",
       "    <tr>\n",
       "      <th>2</th>\n",
       "      <td>101432</td>\n",
       "      <td>control</td>\n",
       "      <td>1</td>\n",
       "      <td>65000</td>\n",
       "    </tr>\n",
       "    <tr>\n",
       "      <th>3</th>\n",
       "      <td>104966</td>\n",
       "      <td>pilot</td>\n",
       "      <td>1</td>\n",
       "      <td>0</td>\n",
       "    </tr>\n",
       "    <tr>\n",
       "      <th>4</th>\n",
       "      <td>106464</td>\n",
       "      <td>pilot</td>\n",
       "      <td>1</td>\n",
       "      <td>85000</td>\n",
       "    </tr>\n",
       "  </tbody>\n",
       "</table>\n",
       "</div>"
      ],
      "text/plain": [
       "    st_id    group  active_user  money\n",
       "0  100379    pilot            1      0\n",
       "1  101432  control            1  85000\n",
       "2  101432  control            1  65000\n",
       "3  104966    pilot            1      0\n",
       "4  106464    pilot            1  85000"
      ]
     },
     "execution_count": 59,
     "metadata": {},
     "output_type": "execute_result"
    }
   ],
   "source": [
    "query = \\\n",
    "\"\"\"\n",
    "                SELECT \n",
    "                    paid.st_id AS st_id,\n",
    "                    paid.test_group AS group,\n",
    "                    active.active_user AS active_user,\n",
    "                    paid.money AS money\n",
    "                FROM (\n",
    "                    SELECT  \n",
    "                        u.st_id AS st_id,\n",
    "                        u.test_grp AS test_group,\n",
    "                        p.money AS money\n",
    "                    FROM default.studs AS u\n",
    "                    FULL OUTER JOIN (SELECT st_id, money, subject AS paid_subject FROM default.final_project_check) AS p\n",
    "                        ON u.st_id = p.st_id\n",
    "                    ) AS paid\n",
    "                LEFT JOIN (\n",
    "                            SELECT\n",
    "                                st_id,\n",
    "                                (SUM(correct)>10) AS active_user\n",
    "                            FROM default.peas\n",
    "                            GROUP BY st_id\n",
    "                            ) AS active\n",
    "                    ON paid.st_id = active.st_id\n",
    "                HAVING active_user > 0\n",
    "\"\"\"\n",
    "\n",
    "active = ph.read_clickhouse(query, connection=connection)\n",
    "\n",
    "active.head()"
   ]
  },
  {
   "cell_type": "code",
   "execution_count": 60,
   "metadata": {},
   "outputs": [
    {
     "name": "stdout",
     "output_type": "stream",
     "text": [
      "p_value =  0.005591202672319628\n"
     ]
    }
   ],
   "source": [
    "x1 = active.query('money != 0 and group == \"control\"').money.count()  # Те, кто сделал покупку в группе А\n",
    "x2 = active.query('group == \"control\"').money.count()                 # Пользователи группы А\n",
    "y1 = active.query('money != 0 and group == \"pilot\"').money.count()    # Те, кто сделал покупку в группе В\n",
    "y2 = active.query('group == \"pilot\"').money.count()                   # Пользователи группы В\n",
    "\n",
    "tstat, p_value, ddof, exp = ss.chi2_contingency(pd.DataFrame({'a': [x1, x2], 'b': [y1, y2]}))\n",
    "\n",
    "print('p_value = ', p_value)"
   ]
  },
  {
   "cell_type": "code",
   "execution_count": 61,
   "metadata": {},
   "outputs": [
    {
     "data": {
      "text/plain": [
       "ShapiroResult(statistic=0.40844690799713135, pvalue=1.159912721482776e-20)"
      ]
     },
     "execution_count": 61,
     "metadata": {},
     "output_type": "execute_result"
    }
   ],
   "source": [
    "ss.shapiro(active.query('group == \"control\"').money)"
   ]
  },
  {
   "cell_type": "code",
   "execution_count": 62,
   "metadata": {},
   "outputs": [
    {
     "data": {
      "text/plain": [
       "ShapiroResult(statistic=0.40844690799713135, pvalue=1.159912721482776e-20)"
      ]
     },
     "execution_count": 62,
     "metadata": {},
     "output_type": "execute_result"
    }
   ],
   "source": [
    "ss.shapiro(active.query('group == \"control\"').money)"
   ]
  },
  {
   "cell_type": "code",
   "execution_count": 63,
   "metadata": {},
   "outputs": [
    {
     "data": {
      "text/plain": [
       "MannwhitneyuResult(statistic=5461.5, pvalue=0.00015799221553172878)"
      ]
     },
     "execution_count": 63,
     "metadata": {},
     "output_type": "execute_result"
    }
   ],
   "source": [
    "ss.mannwhitneyu(active.query('group == \"control\"').money, active.query('group == \"pilot\"').money)"
   ]
  },
  {
   "cell_type": "markdown",
   "metadata": {},
   "source": [
    "#### Различия по CR_active_user и ARPАU статистически значимы"
   ]
  },
  {
   "cell_type": "code",
   "execution_count": 64,
   "metadata": {},
   "outputs": [
    {
     "data": {
      "text/html": [
       "<div>\n",
       "<style scoped>\n",
       "    .dataframe tbody tr th:only-of-type {\n",
       "        vertical-align: middle;\n",
       "    }\n",
       "\n",
       "    .dataframe tbody tr th {\n",
       "        vertical-align: top;\n",
       "    }\n",
       "\n",
       "    .dataframe thead th {\n",
       "        text-align: right;\n",
       "    }\n",
       "</style>\n",
       "<table border=\"1\" class=\"dataframe\">\n",
       "  <thead>\n",
       "    <tr style=\"text-align: right;\">\n",
       "      <th></th>\n",
       "      <th>st_id</th>\n",
       "      <th>group</th>\n",
       "      <th>active_MATH_user</th>\n",
       "      <th>paid</th>\n",
       "    </tr>\n",
       "  </thead>\n",
       "  <tbody>\n",
       "    <tr>\n",
       "      <th>0</th>\n",
       "      <td>106464</td>\n",
       "      <td>pilot</td>\n",
       "      <td>1</td>\n",
       "      <td>1</td>\n",
       "    </tr>\n",
       "    <tr>\n",
       "      <th>1</th>\n",
       "      <td>111336</td>\n",
       "      <td>control</td>\n",
       "      <td>1</td>\n",
       "      <td>0</td>\n",
       "    </tr>\n",
       "    <tr>\n",
       "      <th>2</th>\n",
       "      <td>128371</td>\n",
       "      <td>control</td>\n",
       "      <td>1</td>\n",
       "      <td>0</td>\n",
       "    </tr>\n",
       "    <tr>\n",
       "      <th>3</th>\n",
       "      <td>139814</td>\n",
       "      <td>pilot</td>\n",
       "      <td>1</td>\n",
       "      <td>0</td>\n",
       "    </tr>\n",
       "    <tr>\n",
       "      <th>4</th>\n",
       "      <td>143303</td>\n",
       "      <td>control</td>\n",
       "      <td>1</td>\n",
       "      <td>0</td>\n",
       "    </tr>\n",
       "  </tbody>\n",
       "</table>\n",
       "</div>"
      ],
      "text/plain": [
       "    st_id    group  active_MATH_user  paid\n",
       "0  106464    pilot                 1     1\n",
       "1  111336  control                 1     0\n",
       "2  128371  control                 1     0\n",
       "3  139814    pilot                 1     0\n",
       "4  143303  control                 1     0"
      ]
     },
     "execution_count": 64,
     "metadata": {},
     "output_type": "execute_result"
    }
   ],
   "source": [
    "query = \\\n",
    "\"\"\"\n",
    "                SELECT \n",
    "                    paid.st_id AS st_id,\n",
    "                    paid.test_group AS group,\n",
    "                    math.active_MATH_user AS active_MATH_user,\n",
    "                    (paid.money > 0) AS paid\n",
    "                FROM (\n",
    "                    SELECT  \n",
    "                        u.st_id AS st_id,\n",
    "                        u.test_grp AS test_group,\n",
    "                        p.money AS money\n",
    "                    FROM default.studs AS u\n",
    "                    FULL OUTER JOIN (SELECT st_id, money, subject AS paid_subject FROM default.final_project_check) AS p\n",
    "                        ON u.st_id = p.st_id\n",
    "                    ) AS paid\n",
    "                LEFT JOIN (\n",
    "                            SELECT\n",
    "                                st_id,\n",
    "                                (SUM(correct)>=2) AS active_MATH_user\n",
    "                            FROM default.peas\n",
    "                            WHERE subject == 'Math'\n",
    "                            GROUP BY st_id\n",
    "                            ) AS math\n",
    "                    ON paid.st_id = math.st_id\n",
    "                HAVING active_MATH_user > 0\n",
    "\"\"\"\n",
    "\n",
    "math = ph.read_clickhouse(query, connection=connection)\n",
    "\n",
    "math.head()"
   ]
  },
  {
   "cell_type": "code",
   "execution_count": 65,
   "metadata": {},
   "outputs": [
    {
     "name": "stdout",
     "output_type": "stream",
     "text": [
      "p_value =  0.4178869643175006\n"
     ]
    }
   ],
   "source": [
    "x1 = math.query('paid != 0 and group == \"control\"').paid.count()  # Те, кто сделал покупку в группе А\n",
    "x2 = math.query('group == \"control\"').paid.count()                # Пользователи группы А\n",
    "y1 = math.query('paid != 0 and group == \"pilot\"').paid.count()    # Те, кто сделал покупку в группе В\n",
    "y2 = math.query('group == \"pilot\"').paid.count()                  # Пользователи группы В\n",
    "\n",
    "tstat, p_value, ddof, exp = ss.chi2_contingency(pd.DataFrame({'a': [x1, x2], 'b': [y1, y2]}))\n",
    "\n",
    "print('p_value = ', p_value)"
   ]
  },
  {
   "cell_type": "markdown",
   "metadata": {},
   "source": [
    "#### Различия по CR_active_math_user не являются статистически значимыми, а значит мы не повлияли на сегмент активных пользователей по математике"
   ]
  },
  {
   "cell_type": "markdown",
   "metadata": {},
   "source": [
    "### ИТОГ:\n",
    "#### В целом, данный набор метрик хорошо отражает выгоду введения нового экрана оплаты на образовательной платформе. Следовательно, можно выкатывать данную фичу. \n",
    "Однако, стоит отметить, что это рекомендация дана в общих чертах, следовательно, если изначально нас интересовали именно активные математики, то тут ведение нового экрана оплаты не улучшит CR этого сегмента"
   ]
  },
  {
   "cell_type": "markdown",
   "metadata": {},
   "source": [
    "____"
   ]
  },
  {
   "cell_type": "markdown",
   "metadata": {},
   "source": [
    "# PYTHON"
   ]
  },
  {
   "cell_type": "markdown",
   "metadata": {},
   "source": [
    "Задача 1:\n",
    "\n",
    "Реализуйте функцию, которая будет автоматически подгружать информацию из дополнительного файла groups_add.csv (заголовки могут отличаться) и на основании дополнительных параметров пересчитывать метрики."
   ]
  },
  {
   "cell_type": "code",
   "execution_count": 66,
   "metadata": {},
   "outputs": [
    {
     "data": {
      "text/plain": [
       "'https://disk.yandex.ru/d/3aARY-P9pfaksg'"
      ]
     },
     "execution_count": 66,
     "metadata": {},
     "output_type": "execute_result"
    }
   ],
   "source": [
    "# Ссылка на groups_add\n",
    "'https://disk.yandex.ru/d/3aARY-P9pfaksg'"
   ]
  },
  {
   "cell_type": "code",
   "execution_count": 67,
   "metadata": {},
   "outputs": [
    {
     "name": "stdout",
     "output_type": "stream",
     "text": [
      "Введите public link:https://disk.yandex.ru/d/3aARY-P9pfaksg\n"
     ]
    },
    {
     "data": {
      "text/html": [
       "<div>\n",
       "<style scoped>\n",
       "    .dataframe tbody tr th:only-of-type {\n",
       "        vertical-align: middle;\n",
       "    }\n",
       "\n",
       "    .dataframe tbody tr th {\n",
       "        vertical-align: top;\n",
       "    }\n",
       "\n",
       "    .dataframe thead th {\n",
       "        text-align: right;\n",
       "    }\n",
       "</style>\n",
       "<table border=\"1\" class=\"dataframe\">\n",
       "  <thead>\n",
       "    <tr style=\"text-align: right;\">\n",
       "      <th></th>\n",
       "      <th>grp</th>\n",
       "      <th>ARPPU, Rub</th>\n",
       "      <th>ARPU, Rub</th>\n",
       "      <th>CR, %</th>\n",
       "      <th>Users</th>\n",
       "    </tr>\n",
       "  </thead>\n",
       "  <tbody>\n",
       "    <tr>\n",
       "      <th>0</th>\n",
       "      <td>A</td>\n",
       "      <td>933.589744</td>\n",
       "      <td>47.347204</td>\n",
       "      <td>5.071521</td>\n",
       "      <td>1538</td>\n",
       "    </tr>\n",
       "    <tr>\n",
       "      <th>1</th>\n",
       "      <td>B</td>\n",
       "      <td>1257.878992</td>\n",
       "      <td>58.058798</td>\n",
       "      <td>4.615611</td>\n",
       "      <td>6803</td>\n",
       "    </tr>\n",
       "  </tbody>\n",
       "</table>\n",
       "</div>"
      ],
      "text/plain": [
       "  grp   ARPPU, Rub  ARPU, Rub     CR, %  Users\n",
       "0   A   933.589744  47.347204  5.071521   1538\n",
       "1   B  1257.878992  58.058798  4.615611   6803"
      ]
     },
     "execution_count": 67,
     "metadata": {},
     "output_type": "execute_result"
    }
   ],
   "source": [
    "def uploading():\n",
    "    \"\"\"Эта функция выводит расчитанные метрики автоматически. При этом, если нет доп.файла, то ошибки не будет\"\"\"\n",
    "    # Загружаем основные файлы с яндекса\n",
    "    links = ['https://disk.yandex.ru/d/58Us0DWOzuWAjg',  # groups.csv\n",
    "             'https://disk.yandex.ru/d/prbgU-rZpiXVYg',  # active_studs.csv\n",
    "             'https://disk.yandex.ru/d/84hTmELphW2sqQ']  # checks.csv\n",
    "    \n",
    "    base_url = 'https://cloud-api.yandex.net/v1/disk/public/resources/download?'\n",
    "\n",
    "    download_urls = []\n",
    "\n",
    "    \n",
    "    for i in range(len(links)):\n",
    "        current_link = str(links[i])\n",
    "        final_url = base_url + urlencode(dict(public_key=current_link))\n",
    "        response = requests.get(final_url)\n",
    "        download_urls.append(response.json()['href'])\n",
    "                \n",
    "    groups = pd.read_csv(download_urls[0], sep=';')\n",
    "    active_studs = pd.read_csv(download_urls[1])\n",
    "    checks = pd.read_csv(download_urls[2], sep=';')   \n",
    "    \n",
    "    \n",
    "# Загружаем(пробуем) дополнительный файл    \n",
    "    additional_link = input('Введите public link:') # Ссылка на groups_add.csv\n",
    "    try:\n",
    "        groups_add = pd.read_csv(requests.get(base_url + urlencode(dict(public_key=additional_link))).json()['href'])\n",
    "        groups = pd.concat([groups, groups_add])\n",
    "    except:\n",
    "        print('Something wrong with additional file/link')\n",
    "    \n",
    "    \n",
    "    \n",
    "# Мерджим все датасеты    \n",
    "    df = pd.merge(active_studs, groups.rename(columns={'id': 'student_id'}), how='left', on='student_id')\n",
    "    df = pd.merge(df, checks, how='left', on='student_id').fillna(0)\n",
    "\n",
    "\n",
    "# Рассчитываем метрики\n",
    "    ARPPU_A = df.query('(grp == \"A\") & (rev>0)').rev.mean()\n",
    "    ARPPU_B = df.query('(grp == \"B\") & (rev>0)').rev.mean()\n",
    "    \n",
    "    ARPU_A = df.query('grp == \"A\"').rev.mean()\n",
    "    ARPU_B = df.query('grp == \"B\"').rev.mean()\n",
    "    \n",
    "    CR_A = df.query('grp == \"A\" & (rev > 0)').rev.count()/ df.query('grp == \"A\"').rev.count()* 100\n",
    "    CR_B = df.query('grp == \"B\" & (rev > 0)').rev.count()/ df.query('grp == \"B\"').rev.count()* 100\n",
    "    \n",
    "    users_A = df.query('grp == \"A\"').rev.count()\n",
    "    users_B = df.query('grp == \"B\"').rev.count()\n",
    "\n",
    "    \n",
    "# Создаем итоговый датасет\n",
    "    df_metrics = pd.DataFrame({'grp': ['A', 'B'], 'ARPPU, Rub': [ARPPU_A, ARPPU_B], 'ARPU, Rub': [ARPU_A, ARPU_B], \n",
    "                               'CR, %': [CR_A, CR_B], 'Users': [users_A, users_B]})\n",
    "\n",
    "    return df_metrics\n",
    "\n",
    "\n",
    "# Обращаемся к функции и записываем данные для дальнейшего использования\n",
    "metrics = uploading()\n",
    "metrics"
   ]
  },
  {
   "cell_type": "markdown",
   "metadata": {},
   "source": [
    "Задача 2:\n",
    "    \n",
    "Реализуйте функцию, которая будет строить графики по получаемым метрикам."
   ]
  },
  {
   "cell_type": "code",
   "execution_count": 68,
   "metadata": {},
   "outputs": [
    {
     "data": {
      "image/png": "[encoded data removed]",
      "text/plain": [
       "<Figure size 1296x720 with 4 Axes>"
      ]
     },
     "metadata": {},
     "output_type": "display_data"
    }
   ],
   "source": [
    "def plots(df_metrics):\n",
    "    \"\"\"Эта функция принимает на вход метрики и строит по ним 4 графика(каждый для своей метрики)\"\"\"\n",
    "    # Настраиваем графики\n",
    "    sns.set(\n",
    "        font_scale=1,\n",
    "        style=\"whitegrid\"\n",
    "            )\n",
    "    fig, axes = plt.subplots(2, 2, figsize=(18, 10))\n",
    "    \n",
    "    # Отображаем итоговые барплоты\n",
    "    sns.barplot(ax=axes[1, 0], data=df_metrics, x=\"grp\", y=\"ARPPU, Rub\")\n",
    "    sns.barplot(ax=axes[1, 1], data=df_metrics, x=\"grp\", y=\"ARPU, Rub\")\n",
    "    sns.barplot(ax=axes[0, 1], data=df_metrics, x=\"grp\", y=\"CR, %\")\n",
    "    sns.barplot(ax=axes[0, 0], data=df_metrics, x=\"grp\", y=\"Users\")\n",
    "    return\n",
    "\n",
    "# Вызываем функцию, отображающую графики\n",
    "plots(metrics)"
   ]
  },
  {
   "cell_type": "markdown",
   "metadata": {},
   "source": [
    "____"
   ]
  },
  {
   "cell_type": "markdown",
   "metadata": {},
   "source": [
    "# Конец проекта"
   ]
  }
 ],
 "metadata": {
  "kernelspec": {
   "display_name": "Python 3",
   "language": "python",
   "name": "python3"
  },
  "language_info": {
   "codemirror_mode": {
    "name": "ipython",
    "version": 3
   },
   "file_extension": ".py",
   "mimetype": "text/x-python",
   "name": "python",
   "nbconvert_exporter": "python",
   "pygments_lexer": "ipython3",
   "version": "3.7.3"
  }
 },
 "nbformat": 4,
 "nbformat_minor": 4
}
